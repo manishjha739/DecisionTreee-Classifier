{
 "cells": [
  {
   "cell_type": "markdown",
   "id": "a39f51cc",
   "metadata": {},
   "source": [
    "1. Importing Libraries\n",
    "2. Loading data\n",
    "3. making some new features \n",
    "4. displaying 5 rows from data"
   ]
  },
  {
   "cell_type": "code",
   "execution_count": 1,
   "id": "f4e434b8",
   "metadata": {},
   "outputs": [
    {
     "data": {
      "text/html": [
       "<div>\n",
       "<style scoped>\n",
       "    .dataframe tbody tr th:only-of-type {\n",
       "        vertical-align: middle;\n",
       "    }\n",
       "\n",
       "    .dataframe tbody tr th {\n",
       "        vertical-align: top;\n",
       "    }\n",
       "\n",
       "    .dataframe thead th {\n",
       "        text-align: right;\n",
       "    }\n",
       "</style>\n",
       "<table border=\"1\" class=\"dataframe\">\n",
       "  <thead>\n",
       "    <tr style=\"text-align: right;\">\n",
       "      <th></th>\n",
       "      <th>ip</th>\n",
       "      <th>app</th>\n",
       "      <th>device</th>\n",
       "      <th>os</th>\n",
       "      <th>channel</th>\n",
       "      <th>click_time</th>\n",
       "      <th>attributed_time</th>\n",
       "      <th>is_attributed</th>\n",
       "      <th>hour</th>\n",
       "      <th>minute</th>\n",
       "      <th>second</th>\n",
       "      <th>day</th>\n",
       "    </tr>\n",
       "  </thead>\n",
       "  <tbody>\n",
       "    <tr>\n",
       "      <th>0</th>\n",
       "      <td>89489</td>\n",
       "      <td>3</td>\n",
       "      <td>1</td>\n",
       "      <td>13</td>\n",
       "      <td>379</td>\n",
       "      <td>2017-11-06 15:13:23</td>\n",
       "      <td>NaT</td>\n",
       "      <td>0</td>\n",
       "      <td>15</td>\n",
       "      <td>13</td>\n",
       "      <td>23</td>\n",
       "      <td>6</td>\n",
       "    </tr>\n",
       "    <tr>\n",
       "      <th>1</th>\n",
       "      <td>204158</td>\n",
       "      <td>35</td>\n",
       "      <td>1</td>\n",
       "      <td>13</td>\n",
       "      <td>21</td>\n",
       "      <td>2017-11-06 15:41:07</td>\n",
       "      <td>2017-11-07 08:17:19</td>\n",
       "      <td>1</td>\n",
       "      <td>15</td>\n",
       "      <td>41</td>\n",
       "      <td>7</td>\n",
       "      <td>6</td>\n",
       "    </tr>\n",
       "    <tr>\n",
       "      <th>2</th>\n",
       "      <td>3437</td>\n",
       "      <td>6</td>\n",
       "      <td>1</td>\n",
       "      <td>13</td>\n",
       "      <td>459</td>\n",
       "      <td>2017-11-06 15:42:32</td>\n",
       "      <td>NaT</td>\n",
       "      <td>0</td>\n",
       "      <td>15</td>\n",
       "      <td>42</td>\n",
       "      <td>32</td>\n",
       "      <td>6</td>\n",
       "    </tr>\n",
       "    <tr>\n",
       "      <th>3</th>\n",
       "      <td>167543</td>\n",
       "      <td>3</td>\n",
       "      <td>1</td>\n",
       "      <td>13</td>\n",
       "      <td>379</td>\n",
       "      <td>2017-11-06 15:56:17</td>\n",
       "      <td>NaT</td>\n",
       "      <td>0</td>\n",
       "      <td>15</td>\n",
       "      <td>56</td>\n",
       "      <td>17</td>\n",
       "      <td>6</td>\n",
       "    </tr>\n",
       "    <tr>\n",
       "      <th>4</th>\n",
       "      <td>147509</td>\n",
       "      <td>3</td>\n",
       "      <td>1</td>\n",
       "      <td>13</td>\n",
       "      <td>379</td>\n",
       "      <td>2017-11-06 15:57:01</td>\n",
       "      <td>NaT</td>\n",
       "      <td>0</td>\n",
       "      <td>15</td>\n",
       "      <td>57</td>\n",
       "      <td>1</td>\n",
       "      <td>6</td>\n",
       "    </tr>\n",
       "  </tbody>\n",
       "</table>\n",
       "</div>"
      ],
      "text/plain": [
       "       ip  app  device  os  channel          click_time     attributed_time  \\\n",
       "0   89489    3       1  13      379 2017-11-06 15:13:23                 NaT   \n",
       "1  204158   35       1  13       21 2017-11-06 15:41:07 2017-11-07 08:17:19   \n",
       "2    3437    6       1  13      459 2017-11-06 15:42:32                 NaT   \n",
       "3  167543    3       1  13      379 2017-11-06 15:56:17                 NaT   \n",
       "4  147509    3       1  13      379 2017-11-06 15:57:01                 NaT   \n",
       "\n",
       "   is_attributed  hour  minute  second  day  \n",
       "0              0    15      13      23    6  \n",
       "1              1    15      41       7    6  \n",
       "2              0    15      42      32    6  \n",
       "3              0    15      56      17    6  \n",
       "4              0    15      57       1    6  "
      ]
     },
     "execution_count": 1,
     "metadata": {},
     "output_type": "execute_result"
    }
   ],
   "source": [
    "import numpy as np\n",
    "import pandas as pd\n",
    "import matplotlib.pyplot as plt\n",
    "import seaborn as sns\n",
    "\n",
    "# Load the dataset\n",
    "data = pd.read_csv('train_sample.csv')\n",
    "\n",
    "# Data Cleaning\n",
    "data['click_time'] = pd.to_datetime(data['click_time'])\n",
    "data['attributed_time'] = pd.to_datetime(data['attributed_time'])\n",
    "data['hour'] = data['click_time'].dt.hour\n",
    "data['minute'] = data['click_time'].dt.minute\n",
    "data['second'] = data['click_time'].dt.second\n",
    "data['day'] = data['click_time'].dt.day\n",
    "data.head()"
   ]
  },
  {
   "cell_type": "markdown",
   "id": "9e34678f",
   "metadata": {},
   "source": [
    "### Summary statistics for numeric columns"
   ]
  },
  {
   "cell_type": "code",
   "execution_count": 2,
   "id": "f5cc55ba",
   "metadata": {},
   "outputs": [
    {
     "data": {
      "text/html": [
       "<div>\n",
       "<style scoped>\n",
       "    .dataframe tbody tr th:only-of-type {\n",
       "        vertical-align: middle;\n",
       "    }\n",
       "\n",
       "    .dataframe tbody tr th {\n",
       "        vertical-align: top;\n",
       "    }\n",
       "\n",
       "    .dataframe thead th {\n",
       "        text-align: right;\n",
       "    }\n",
       "</style>\n",
       "<table border=\"1\" class=\"dataframe\">\n",
       "  <thead>\n",
       "    <tr style=\"text-align: right;\">\n",
       "      <th></th>\n",
       "      <th>ip</th>\n",
       "      <th>app</th>\n",
       "      <th>device</th>\n",
       "      <th>os</th>\n",
       "      <th>channel</th>\n",
       "      <th>is_attributed</th>\n",
       "      <th>hour</th>\n",
       "      <th>minute</th>\n",
       "      <th>second</th>\n",
       "      <th>day</th>\n",
       "    </tr>\n",
       "  </thead>\n",
       "  <tbody>\n",
       "    <tr>\n",
       "      <th>count</th>\n",
       "      <td>2.300561e+06</td>\n",
       "      <td>2.300561e+06</td>\n",
       "      <td>2.300561e+06</td>\n",
       "      <td>2.300561e+06</td>\n",
       "      <td>2.300561e+06</td>\n",
       "      <td>2.300561e+06</td>\n",
       "      <td>2.300561e+06</td>\n",
       "      <td>2.300561e+06</td>\n",
       "      <td>2.300561e+06</td>\n",
       "      <td>2.300561e+06</td>\n",
       "    </tr>\n",
       "    <tr>\n",
       "      <th>mean</th>\n",
       "      <td>1.056052e+05</td>\n",
       "      <td>1.550743e+01</td>\n",
       "      <td>2.348307e+01</td>\n",
       "      <td>2.297843e+01</td>\n",
       "      <td>2.562431e+02</td>\n",
       "      <td>1.985803e-01</td>\n",
       "      <td>9.160539e+00</td>\n",
       "      <td>2.934901e+01</td>\n",
       "      <td>2.955570e+01</td>\n",
       "      <td>7.867650e+00</td>\n",
       "    </tr>\n",
       "    <tr>\n",
       "      <th>std</th>\n",
       "      <td>8.339342e+04</td>\n",
       "      <td>2.108502e+01</td>\n",
       "      <td>2.501862e+02</td>\n",
       "      <td>5.483919e+01</td>\n",
       "      <td>1.291065e+02</td>\n",
       "      <td>3.989313e-01</td>\n",
       "      <td>6.120964e+00</td>\n",
       "      <td>1.738031e+01</td>\n",
       "      <td>1.725196e+01</td>\n",
       "      <td>8.867873e-01</td>\n",
       "    </tr>\n",
       "    <tr>\n",
       "      <th>min</th>\n",
       "      <td>1.000000e+00</td>\n",
       "      <td>0.000000e+00</td>\n",
       "      <td>0.000000e+00</td>\n",
       "      <td>0.000000e+00</td>\n",
       "      <td>0.000000e+00</td>\n",
       "      <td>0.000000e+00</td>\n",
       "      <td>0.000000e+00</td>\n",
       "      <td>0.000000e+00</td>\n",
       "      <td>0.000000e+00</td>\n",
       "      <td>6.000000e+00</td>\n",
       "    </tr>\n",
       "    <tr>\n",
       "      <th>25%</th>\n",
       "      <td>4.383700e+04</td>\n",
       "      <td>3.000000e+00</td>\n",
       "      <td>1.000000e+00</td>\n",
       "      <td>1.300000e+01</td>\n",
       "      <td>1.370000e+02</td>\n",
       "      <td>0.000000e+00</td>\n",
       "      <td>4.000000e+00</td>\n",
       "      <td>1.400000e+01</td>\n",
       "      <td>1.500000e+01</td>\n",
       "      <td>7.000000e+00</td>\n",
       "    </tr>\n",
       "    <tr>\n",
       "      <th>50%</th>\n",
       "      <td>8.749800e+04</td>\n",
       "      <td>1.200000e+01</td>\n",
       "      <td>1.000000e+00</td>\n",
       "      <td>1.800000e+01</td>\n",
       "      <td>2.450000e+02</td>\n",
       "      <td>0.000000e+00</td>\n",
       "      <td>9.000000e+00</td>\n",
       "      <td>2.900000e+01</td>\n",
       "      <td>3.000000e+01</td>\n",
       "      <td>8.000000e+00</td>\n",
       "    </tr>\n",
       "    <tr>\n",
       "      <th>75%</th>\n",
       "      <td>1.387450e+05</td>\n",
       "      <td>1.800000e+01</td>\n",
       "      <td>1.000000e+00</td>\n",
       "      <td>2.000000e+01</td>\n",
       "      <td>3.490000e+02</td>\n",
       "      <td>0.000000e+00</td>\n",
       "      <td>1.300000e+01</td>\n",
       "      <td>4.400000e+01</td>\n",
       "      <td>4.400000e+01</td>\n",
       "      <td>9.000000e+00</td>\n",
       "    </tr>\n",
       "    <tr>\n",
       "      <th>max</th>\n",
       "      <td>3.647780e+05</td>\n",
       "      <td>7.680000e+02</td>\n",
       "      <td>4.223000e+03</td>\n",
       "      <td>9.110000e+02</td>\n",
       "      <td>4.980000e+02</td>\n",
       "      <td>1.000000e+00</td>\n",
       "      <td>2.300000e+01</td>\n",
       "      <td>5.900000e+01</td>\n",
       "      <td>5.900000e+01</td>\n",
       "      <td>9.000000e+00</td>\n",
       "    </tr>\n",
       "  </tbody>\n",
       "</table>\n",
       "</div>"
      ],
      "text/plain": [
       "                 ip           app        device            os       channel  \\\n",
       "count  2.300561e+06  2.300561e+06  2.300561e+06  2.300561e+06  2.300561e+06   \n",
       "mean   1.056052e+05  1.550743e+01  2.348307e+01  2.297843e+01  2.562431e+02   \n",
       "std    8.339342e+04  2.108502e+01  2.501862e+02  5.483919e+01  1.291065e+02   \n",
       "min    1.000000e+00  0.000000e+00  0.000000e+00  0.000000e+00  0.000000e+00   \n",
       "25%    4.383700e+04  3.000000e+00  1.000000e+00  1.300000e+01  1.370000e+02   \n",
       "50%    8.749800e+04  1.200000e+01  1.000000e+00  1.800000e+01  2.450000e+02   \n",
       "75%    1.387450e+05  1.800000e+01  1.000000e+00  2.000000e+01  3.490000e+02   \n",
       "max    3.647780e+05  7.680000e+02  4.223000e+03  9.110000e+02  4.980000e+02   \n",
       "\n",
       "       is_attributed          hour        minute        second           day  \n",
       "count   2.300561e+06  2.300561e+06  2.300561e+06  2.300561e+06  2.300561e+06  \n",
       "mean    1.985803e-01  9.160539e+00  2.934901e+01  2.955570e+01  7.867650e+00  \n",
       "std     3.989313e-01  6.120964e+00  1.738031e+01  1.725196e+01  8.867873e-01  \n",
       "min     0.000000e+00  0.000000e+00  0.000000e+00  0.000000e+00  6.000000e+00  \n",
       "25%     0.000000e+00  4.000000e+00  1.400000e+01  1.500000e+01  7.000000e+00  \n",
       "50%     0.000000e+00  9.000000e+00  2.900000e+01  3.000000e+01  8.000000e+00  \n",
       "75%     0.000000e+00  1.300000e+01  4.400000e+01  4.400000e+01  9.000000e+00  \n",
       "max     1.000000e+00  2.300000e+01  5.900000e+01  5.900000e+01  9.000000e+00  "
      ]
     },
     "execution_count": 2,
     "metadata": {},
     "output_type": "execute_result"
    }
   ],
   "source": [
    "# Data Distribution and Summary\n",
    "data.describe()"
   ]
  },
  {
   "cell_type": "markdown",
   "id": "f1fed226",
   "metadata": {},
   "source": [
    "#### Top 5 operating systems in our dataset "
   ]
  },
  {
   "cell_type": "code",
   "execution_count": 3,
   "id": "d459f93b",
   "metadata": {},
   "outputs": [
    {
     "data": {
      "text/plain": [
       "<AxesSubplot:>"
      ]
     },
     "execution_count": 3,
     "metadata": {},
     "output_type": "execute_result"
    },
    {
     "data": {
      "image/png": "[encoded data removed]",
      "text/plain": [
       "<Figure size 432x288 with 1 Axes>"
      ]
     },
     "metadata": {
      "needs_background": "light"
     },
     "output_type": "display_data"
    }
   ],
   "source": [
    "data['os'].value_counts()[:5].plot(kind = 'bar')"
   ]
  },
  {
   "cell_type": "markdown",
   "id": "431293b3",
   "metadata": {},
   "source": [
    "#### Top 10 apps in our dataset"
   ]
  },
  {
   "cell_type": "code",
   "execution_count": 4,
   "id": "6c4228df",
   "metadata": {},
   "outputs": [
    {
     "data": {
      "text/plain": [
       "<AxesSubplot:>"
      ]
     },
     "execution_count": 4,
     "metadata": {},
     "output_type": "execute_result"
    },
    {
     "data": {
      "image/png": "[encoded data removed]",
      "text/plain": [
       "<Figure size 432x288 with 1 Axes>"
      ]
     },
     "metadata": {
      "needs_background": "light"
     },
     "output_type": "display_data"
    }
   ],
   "source": [
    "data['app'].value_counts()[:10].plot(kind = 'bar')"
   ]
  },
  {
   "cell_type": "markdown",
   "id": "6d847e4b",
   "metadata": {},
   "source": [
    "#### Top 5 channels as per our dataset"
   ]
  },
  {
   "cell_type": "code",
   "execution_count": 5,
   "id": "9119cc65",
   "metadata": {},
   "outputs": [
    {
     "data": {
      "text/plain": [
       "<AxesSubplot:>"
      ]
     },
     "execution_count": 5,
     "metadata": {},
     "output_type": "execute_result"
    },
    {
     "data": {
      "image/png": "[encoded data removed]",
      "text/plain": [
       "<Figure size 432x288 with 1 Axes>"
      ]
     },
     "metadata": {
      "needs_background": "light"
     },
     "output_type": "display_data"
    }
   ],
   "source": [
    "data['channel'].value_counts()[:5].plot(kind = 'bar')"
   ]
  },
  {
   "cell_type": "markdown",
   "id": "8af900ca",
   "metadata": {},
   "source": [
    "#### Heatmap to check corelations between features"
   ]
  },
  {
   "cell_type": "code",
   "execution_count": 6,
   "id": "bcf89484",
   "metadata": {},
   "outputs": [
    {
     "data": {
      "text/plain": [
       "<AxesSubplot:>"
      ]
     },
     "execution_count": 6,
     "metadata": {},
     "output_type": "execute_result"
    },
    {
     "data": {
      "image/png": "[encoded data removed]",
      "text/plain": [
       "<Figure size 720x576 with 2 Axes>"
      ]
     },
     "metadata": {
      "needs_background": "light"
     },
     "output_type": "display_data"
    }
   ],
   "source": [
    "import matplotlib.pyplot as plt \n",
    "plt.figure(figsize = (10,8))\n",
    "sns.heatmap(data.corr(), annot = True)"
   ]
  },
  {
   "cell_type": "markdown",
   "id": "3743d378",
   "metadata": {},
   "source": [
    "#### Checking number of unique values per feature"
   ]
  },
  {
   "cell_type": "code",
   "execution_count": 7,
   "id": "cb8b1e3a",
   "metadata": {},
   "outputs": [
    {
     "name": "stdout",
     "output_type": "stream",
     "text": [
      "ip 260238\n",
      "app 389\n",
      "device 1918\n",
      "os 232\n",
      "channel 181\n",
      "click_time 251267\n",
      "attributed_time 182057\n",
      "is_attributed 2\n",
      "hour 24\n",
      "minute 60\n",
      "second 60\n",
      "day 4\n"
     ]
    }
   ],
   "source": [
    "for i in data.columns:\n",
    "    print(i, data[i].nunique())"
   ]
  },
  {
   "cell_type": "markdown",
   "id": "44bb9c5a",
   "metadata": {},
   "source": [
    "#### Checking null values"
   ]
  },
  {
   "cell_type": "code",
   "execution_count": 8,
   "id": "4b397981",
   "metadata": {},
   "outputs": [
    {
     "data": {
      "text/plain": [
       "ip                  0.000000\n",
       "app                 0.000000\n",
       "device              0.000000\n",
       "os                  0.000000\n",
       "channel             0.000000\n",
       "click_time          0.000000\n",
       "attributed_time    80.141974\n",
       "is_attributed       0.000000\n",
       "hour                0.000000\n",
       "minute              0.000000\n",
       "second              0.000000\n",
       "day                 0.000000\n",
       "dtype: float64"
      ]
     },
     "execution_count": 8,
     "metadata": {},
     "output_type": "execute_result"
    }
   ],
   "source": [
    "data.isnull().sum()*100/len(data)"
   ]
  },
  {
   "cell_type": "markdown",
   "id": "b128a6fd",
   "metadata": {},
   "source": [
    "#### dropping attributed_time because it contains 80% missing values"
   ]
  },
  {
   "cell_type": "code",
   "execution_count": 9,
   "id": "ebd8e9fb",
   "metadata": {},
   "outputs": [],
   "source": [
    "data.drop(columns = ['device', 'attributed_time'], axis = 1, inplace = True)"
   ]
  },
  {
   "cell_type": "markdown",
   "id": "aeb04841",
   "metadata": {},
   "source": [
    "#### visualising Hour, minute, second and day columns against is_attributed feature"
   ]
  },
  {
   "cell_type": "code",
   "execution_count": 13,
   "id": "caeb8659",
   "metadata": {},
   "outputs": [
    {
     "data": {
      "image/png": "[encoded data removed]",
      "text/plain": [
       "<Figure size 1800x864 with 4 Axes>"
      ]
     },
     "metadata": {
      "needs_background": "light"
     },
     "output_type": "display_data"
    }
   ],
   "source": [
    "# Filter data for is_attributed values 0 and 1\n",
    "data_0 = data[data['is_attributed'] == 0]\n",
    "data_1 = data[data['is_attributed'] == 1]\n",
    "\n",
    "# Group by hour, minute, second, and day and calculate the counts for 0 and 1\n",
    "grouped_0 = data_0.groupby(['hour', 'minute', 'second', 'day'])['is_attributed'].count().reset_index()\n",
    "grouped_1 = data_1.groupby(['hour', 'minute', 'second', 'day'])['is_attributed'].count().reset_index()\n",
    "\n",
    "# Create subplots\n",
    "fig, axes = plt.subplots(nrows=2, ncols=2, figsize=(25, 12))\n",
    "\n",
    "# Stacked bar chart for hour\n",
    "hourly_group_0 = grouped_0.groupby('hour')['is_attributed'].sum()\n",
    "hourly_group_1 = grouped_1.groupby('hour')['is_attributed'].sum()\n",
    "hourly_group_0.plot(kind='bar', stacked=True, ax=axes[0, 0], label='Not Attributed')\n",
    "hourly_group_1.plot(kind='bar', stacked=True, ax=axes[0, 0], label='Attributed', color='orange', alpha=0.7)\n",
    "axes[0, 0].set_title('Attribution by Hour')\n",
    "axes[0, 0].legend()\n",
    "\n",
    "# Stacked bar chart for minute\n",
    "minute_group_0 = grouped_0.groupby('minute')['is_attributed'].sum()\n",
    "minute_group_1 = grouped_1.groupby('minute')['is_attributed'].sum()\n",
    "minute_group_0.plot(kind='bar', stacked=True, ax=axes[0, 1], label='Not Attributed')\n",
    "minute_group_1.plot(kind='bar', stacked=True, ax=axes[0, 1], label='Attributed', color='orange', alpha=0.7)\n",
    "axes[0, 1].set_title('Attribution by Minute')\n",
    "axes[0, 1].legend()\n",
    "\n",
    "# Stacked bar chart for second\n",
    "second_group_0 = grouped_0.groupby('second')['is_attributed'].sum()\n",
    "second_group_1 = grouped_1.groupby('second')['is_attributed'].sum()\n",
    "second_group_0.plot(kind='bar', stacked=True, ax=axes[1, 0], label='Not Attributed')\n",
    "second_group_1.plot(kind='bar', stacked=True, ax=axes[1, 0], label='Attributed', color='orange', alpha=0.7)\n",
    "axes[1, 0].set_title('Attribution by Second')\n",
    "axes[1, 0].legend()\n",
    "\n",
    "# Stacked bar chart for day\n",
    "day_group_0 = grouped_0.groupby('day')['is_attributed'].sum()\n",
    "day_group_1 = grouped_1.groupby('day')['is_attributed'].sum()\n",
    "day_group_0.plot(kind='bar', stacked=True, ax=axes[1, 1], label='Not Attributed')\n",
    "day_group_1.plot(kind='bar', stacked=True, ax=axes[1, 1], label='Attributed', color='orange', alpha=0.7)\n",
    "axes[1, 1].set_title('Attribution by Day')\n",
    "axes[1, 1].legend()\n",
    "\n",
    "plt.tight_layout()\n",
    "plt.show()"
   ]
  },
  {
   "cell_type": "markdown",
   "id": "b5bf6b21",
   "metadata": {},
   "source": [
    "#### Plotting histograms of few numerical columns "
   ]
  },
  {
   "cell_type": "code",
   "execution_count": 14,
   "id": "b76e7d97",
   "metadata": {},
   "outputs": [
    {
     "data": {
      "image/png": "[encoded data removed]",
      "text/plain": [
       "<Figure size 1296x360 with 3 Axes>"
      ]
     },
     "metadata": {
      "needs_background": "light"
     },
     "output_type": "display_data"
    }
   ],
   "source": [
    "import warnings\n",
    "warnings.filterwarnings(\"ignore\")\n",
    "\n",
    "# Create subplots for histograms\n",
    "fig, axes = plt.subplots(nrows=1, ncols=3, figsize=(18, 5))\n",
    "\n",
    "# Histogram for 'app'\n",
    "sns.histplot(data['app'], bins=20, kde=False, ax=axes[0])\n",
    "axes[0].set_title('Histogram of App')\n",
    "\n",
    "# Histogram for 'os'\n",
    "sns.histplot(data['os'], bins=20, kde=False, ax=axes[1])\n",
    "axes[1].set_title('Histogram of OS')\n",
    "\n",
    "# Histogram for 'channel'\n",
    "sns.histplot(data['channel'], bins=20, kde=False, ax=axes[2])\n",
    "axes[2].set_title('Histogram of Channel')\n",
    "\n",
    "plt.tight_layout()\n",
    "plt.show()"
   ]
  },
  {
   "cell_type": "markdown",
   "id": "8e77e8f0",
   "metadata": {},
   "source": [
    "### Filtering data based on above graph "
   ]
  },
  {
   "cell_type": "code",
   "execution_count": 15,
   "id": "2a298af1",
   "metadata": {},
   "outputs": [
    {
     "data": {
      "text/html": [
       "<div>\n",
       "<style scoped>\n",
       "    .dataframe tbody tr th:only-of-type {\n",
       "        vertical-align: middle;\n",
       "    }\n",
       "\n",
       "    .dataframe tbody tr th {\n",
       "        vertical-align: top;\n",
       "    }\n",
       "\n",
       "    .dataframe thead th {\n",
       "        text-align: right;\n",
       "    }\n",
       "</style>\n",
       "<table border=\"1\" class=\"dataframe\">\n",
       "  <thead>\n",
       "    <tr style=\"text-align: right;\">\n",
       "      <th></th>\n",
       "      <th>ip</th>\n",
       "      <th>app</th>\n",
       "      <th>os</th>\n",
       "      <th>channel</th>\n",
       "      <th>click_time</th>\n",
       "      <th>is_attributed</th>\n",
       "      <th>hour</th>\n",
       "      <th>minute</th>\n",
       "      <th>second</th>\n",
       "      <th>day</th>\n",
       "      <th>month</th>\n",
       "    </tr>\n",
       "  </thead>\n",
       "  <tbody>\n",
       "    <tr>\n",
       "      <th>0</th>\n",
       "      <td>89489</td>\n",
       "      <td>3</td>\n",
       "      <td>13</td>\n",
       "      <td>379</td>\n",
       "      <td>2017-11-06 15:13:23</td>\n",
       "      <td>0</td>\n",
       "      <td>15</td>\n",
       "      <td>13</td>\n",
       "      <td>23</td>\n",
       "      <td>6</td>\n",
       "      <td>11</td>\n",
       "    </tr>\n",
       "    <tr>\n",
       "      <th>1</th>\n",
       "      <td>204158</td>\n",
       "      <td>35</td>\n",
       "      <td>13</td>\n",
       "      <td>21</td>\n",
       "      <td>2017-11-06 15:41:07</td>\n",
       "      <td>1</td>\n",
       "      <td>15</td>\n",
       "      <td>41</td>\n",
       "      <td>7</td>\n",
       "      <td>6</td>\n",
       "      <td>11</td>\n",
       "    </tr>\n",
       "    <tr>\n",
       "      <th>2</th>\n",
       "      <td>3437</td>\n",
       "      <td>6</td>\n",
       "      <td>13</td>\n",
       "      <td>459</td>\n",
       "      <td>2017-11-06 15:42:32</td>\n",
       "      <td>0</td>\n",
       "      <td>15</td>\n",
       "      <td>42</td>\n",
       "      <td>32</td>\n",
       "      <td>6</td>\n",
       "      <td>11</td>\n",
       "    </tr>\n",
       "    <tr>\n",
       "      <th>3</th>\n",
       "      <td>167543</td>\n",
       "      <td>3</td>\n",
       "      <td>13</td>\n",
       "      <td>379</td>\n",
       "      <td>2017-11-06 15:56:17</td>\n",
       "      <td>0</td>\n",
       "      <td>15</td>\n",
       "      <td>56</td>\n",
       "      <td>17</td>\n",
       "      <td>6</td>\n",
       "      <td>11</td>\n",
       "    </tr>\n",
       "    <tr>\n",
       "      <th>4</th>\n",
       "      <td>147509</td>\n",
       "      <td>3</td>\n",
       "      <td>13</td>\n",
       "      <td>379</td>\n",
       "      <td>2017-11-06 15:57:01</td>\n",
       "      <td>0</td>\n",
       "      <td>15</td>\n",
       "      <td>57</td>\n",
       "      <td>1</td>\n",
       "      <td>6</td>\n",
       "      <td>11</td>\n",
       "    </tr>\n",
       "  </tbody>\n",
       "</table>\n",
       "</div>"
      ],
      "text/plain": [
       "       ip  app  os  channel          click_time  is_attributed  hour  minute  \\\n",
       "0   89489    3  13      379 2017-11-06 15:13:23              0    15      13   \n",
       "1  204158   35  13       21 2017-11-06 15:41:07              1    15      41   \n",
       "2    3437    6  13      459 2017-11-06 15:42:32              0    15      42   \n",
       "3  167543    3  13      379 2017-11-06 15:56:17              0    15      56   \n",
       "4  147509    3  13      379 2017-11-06 15:57:01              0    15      57   \n",
       "\n",
       "   second  day  month  \n",
       "0      23    6     11  \n",
       "1       7    6     11  \n",
       "2      32    6     11  \n",
       "3      17    6     11  \n",
       "4       1    6     11  "
      ]
     },
     "execution_count": 15,
     "metadata": {},
     "output_type": "execute_result"
    }
   ],
   "source": [
    "data = data[(data['os']<= 100) & (data['app']<= 100)]\n",
    "data.head()"
   ]
  },
  {
   "cell_type": "markdown",
   "id": "d9dfd13f",
   "metadata": {},
   "source": [
    "### Plotting histograms of same columns after filltering data"
   ]
  },
  {
   "cell_type": "code",
   "execution_count": 16,
   "id": "dc894517",
   "metadata": {},
   "outputs": [
    {
     "data": {
      "image/png": "[encoded data removed]",
      "text/plain": [
       "<Figure size 1296x360 with 3 Axes>"
      ]
     },
     "metadata": {
      "needs_background": "light"
     },
     "output_type": "display_data"
    }
   ],
   "source": [
    "# Create subplots for histograms\n",
    "fig, axes = plt.subplots(nrows=1, ncols=3, figsize=(18, 5))\n",
    "\n",
    "# Histogram for 'app'\n",
    "sns.histplot(data['app'], bins=20, kde=False, ax=axes[0])\n",
    "axes[0].set_title('Histogram of App')\n",
    "\n",
    "# Histogram for 'os'\n",
    "sns.histplot(data['os'], bins=20, kde=False, ax=axes[1])\n",
    "axes[1].set_title('Histogram of OS')\n",
    "\n",
    "# Histogram for 'channel'\n",
    "sns.histplot(data['channel'], bins=20, kde=False, ax=axes[2])\n",
    "axes[2].set_title('Histogram of Channel')\n",
    "\n",
    "plt.tight_layout()\n",
    "plt.show()"
   ]
  },
  {
   "cell_type": "code",
   "execution_count": 17,
   "id": "a4de2d73",
   "metadata": {},
   "outputs": [
    {
     "data": {
      "text/plain": [
       "(2261728, 11)"
      ]
     },
     "execution_count": 17,
     "metadata": {},
     "output_type": "execute_result"
    }
   ],
   "source": [
    "data.shape"
   ]
  },
  {
   "cell_type": "markdown",
   "id": "8b7b1b1a",
   "metadata": {},
   "source": [
    "#### again filtering data based on above graph"
   ]
  },
  {
   "cell_type": "code",
   "execution_count": 18,
   "id": "e6c8bf83",
   "metadata": {},
   "outputs": [],
   "source": [
    "data = data[(data['os']<= 60) & (data['app']<= 60)]"
   ]
  },
  {
   "cell_type": "markdown",
   "id": "8bc9ee4b",
   "metadata": {},
   "source": [
    "#### plotting histograms after filtering data"
   ]
  },
  {
   "cell_type": "code",
   "execution_count": 19,
   "id": "658383b3",
   "metadata": {},
   "outputs": [
    {
     "data": {
      "image/png": "[encoded data removed]",
      "text/plain": [
       "<Figure size 1296x360 with 3 Axes>"
      ]
     },
     "metadata": {
      "needs_background": "light"
     },
     "output_type": "display_data"
    }
   ],
   "source": [
    "# Create subplots for histograms\n",
    "fig, axes = plt.subplots(nrows=1, ncols=3, figsize=(18, 5))\n",
    "\n",
    "# Histogram for 'app'\n",
    "sns.histplot(data['app'], bins=20, kde=False, ax=axes[0])\n",
    "axes[0].set_title('Histogram of App')\n",
    "\n",
    "# Histogram for 'os'\n",
    "sns.histplot(data['os'], bins=20, kde=False, ax=axes[1])\n",
    "axes[1].set_title('Histogram of OS')\n",
    "\n",
    "# Histogram for 'channel'\n",
    "sns.histplot(data['channel'], bins=20, kde=False, ax=axes[2])\n",
    "axes[2].set_title('Histogram of Channel')\n",
    "\n",
    "plt.tight_layout()\n",
    "plt.show()"
   ]
  },
  {
   "cell_type": "code",
   "execution_count": 20,
   "id": "371527fb",
   "metadata": {},
   "outputs": [
    {
     "data": {
      "text/plain": [
       "(2196368, 11)"
      ]
     },
     "execution_count": 20,
     "metadata": {},
     "output_type": "execute_result"
    }
   ],
   "source": [
    "data.shape"
   ]
  },
  {
   "cell_type": "code",
   "execution_count": 41,
   "id": "678e602d",
   "metadata": {},
   "outputs": [
    {
     "data": {
      "text/plain": [
       "0    81.711034\n",
       "1    18.288966\n",
       "Name: is_attributed, dtype: float64"
      ]
     },
     "execution_count": 41,
     "metadata": {},
     "output_type": "execute_result"
    }
   ],
   "source": [
    "data['is_attributed'].value_counts()*100/len(data)"
   ]
  },
  {
   "cell_type": "markdown",
   "id": "9677e883",
   "metadata": {},
   "source": [
    "#### Extracting X and y "
   ]
  },
  {
   "cell_type": "code",
   "execution_count": 22,
   "id": "828c0e33",
   "metadata": {},
   "outputs": [],
   "source": [
    "X = data.drop(columns = ['is_attributed', 'click_time'])\n",
    "y = data['is_attributed']"
   ]
  },
  {
   "cell_type": "code",
   "execution_count": 23,
   "id": "a58c0195",
   "metadata": {},
   "outputs": [
    {
     "name": "stdout",
     "output_type": "stream",
     "text": [
      "(2196368, 9)\n",
      "(2196368,)\n"
     ]
    }
   ],
   "source": [
    "print(X.shape)\n",
    "print(y.shape)"
   ]
  },
  {
   "cell_type": "markdown",
   "id": "43e411e7",
   "metadata": {},
   "source": [
    "#### Splitting data into train and test set"
   ]
  },
  {
   "cell_type": "code",
   "execution_count": 24,
   "id": "ad77e306",
   "metadata": {},
   "outputs": [
    {
     "name": "stdout",
     "output_type": "stream",
     "text": [
      "(1757094, 9)\n",
      "(439274, 9)\n",
      "(1757094,)\n",
      "(439274,)\n"
     ]
    }
   ],
   "source": [
    "from sklearn.model_selection import train_test_split\n",
    "x_train, x_test, y_train, y_test = train_test_split(X,y , test_size = 0.2, random_state = 42)\n",
    "print(x_train.shape)\n",
    "print(x_test.shape)\n",
    "print(y_train.shape)\n",
    "print(y_test.shape)"
   ]
  },
  {
   "cell_type": "markdown",
   "id": "0c606fb7",
   "metadata": {},
   "source": [
    "#### Standardizing features"
   ]
  },
  {
   "cell_type": "code",
   "execution_count": 25,
   "id": "74ce4f00",
   "metadata": {},
   "outputs": [],
   "source": [
    "from sklearn.preprocessing import StandardScaler\n",
    "\n",
    "scaler = StandardScaler()\n",
    "# Fit the scaler on the training data and transform both training and testing data\n",
    "x_train_scaled = scaler.fit_transform(x_train)\n",
    "x_test_scaled = scaler.transform(x_test)"
   ]
  },
  {
   "cell_type": "code",
   "execution_count": 26,
   "id": "b6afe626",
   "metadata": {},
   "outputs": [],
   "source": [
    "from sklearn.linear_model import LogisticRegression\n",
    "from sklearn.tree import DecisionTreeClassifier\n",
    "from sklearn.neighbors import KNeighborsClassifier\n",
    "from sklearn.ensemble import RandomForestClassifier"
   ]
  },
  {
   "cell_type": "markdown",
   "id": "b1aa7d2b",
   "metadata": {},
   "source": [
    "#### making logistic regression classifer "
   ]
  },
  {
   "cell_type": "code",
   "execution_count": 27,
   "id": "e8dffb7f",
   "metadata": {},
   "outputs": [
    {
     "data": {
      "text/plain": [
       "LogisticRegression()"
      ]
     },
     "execution_count": 27,
     "metadata": {},
     "output_type": "execute_result"
    }
   ],
   "source": [
    "lr = LogisticRegression()\n",
    "lr.fit(x_train_scaled, y_train)"
   ]
  },
  {
   "cell_type": "code",
   "execution_count": 28,
   "id": "76855667",
   "metadata": {},
   "outputs": [
    {
     "name": "stdout",
     "output_type": "stream",
     "text": [
      "Logistic Regression - Train Accuracy: 0.8714633366228557\n",
      "Logistic Regression - Test Accuracy: 0.8717975568779395\n"
     ]
    }
   ],
   "source": [
    "from sklearn.metrics import accuracy_score\n",
    "\n",
    "y_train_pred_lr = lr.predict(x_train_scaled)\n",
    "y_test_pred_lr = lr.predict(x_test_scaled)\n",
    "\n",
    "train_accuracy_lr = accuracy_score(y_train, y_train_pred_lr)\n",
    "test_accuracy_lr = accuracy_score(y_test, y_test_pred_lr)\n",
    "\n",
    "print(\"Logistic Regression - Train Accuracy:\", train_accuracy_lr)\n",
    "print(\"Logistic Regression - Test Accuracy:\", test_accuracy_lr)"
   ]
  },
  {
   "cell_type": "markdown",
   "id": "51e6eea4",
   "metadata": {},
   "source": [
    "#### Insight \n",
    "accuracy of logistic model seems very low \n",
    "\n",
    "#### Action \n",
    "need to make new classifier models"
   ]
  },
  {
   "cell_type": "markdown",
   "id": "7c7d54cf",
   "metadata": {},
   "source": [
    "#### making a Decision Tree classifier"
   ]
  },
  {
   "cell_type": "code",
   "execution_count": 29,
   "id": "0e900ef0",
   "metadata": {},
   "outputs": [
    {
     "name": "stdout",
     "output_type": "stream",
     "text": [
      "DecisionTreeClassifier - Train Accuracy: 0.9999635762230137\n",
      "DecisionTreeClassifier - Test Accuracy: 0.9246119733924612\n"
     ]
    }
   ],
   "source": [
    "dt = DecisionTreeClassifier()\n",
    "dt.fit(x_train_scaled, y_train)\n",
    "\n",
    "\n",
    "y_train_pred_dt = dt.predict(x_train_scaled)\n",
    "y_test_pred_dt = dt.predict(x_test_scaled)\n",
    "\n",
    "train_accuracy_dt = accuracy_score(y_train, y_train_pred_dt)\n",
    "test_accuracy_dt = accuracy_score(y_test, y_test_pred_dt)\n",
    "\n",
    "print(\"DecisionTreeClassifier - Train Accuracy:\", train_accuracy_dt)\n",
    "print(\"DecisionTreeClassifier - Test Accuracy:\", test_accuracy_dt)"
   ]
  },
  {
   "cell_type": "markdown",
   "id": "f765a85c",
   "metadata": {},
   "source": [
    "#### Insights \n",
    "This model is performing really good on Train data but accuracy is fropping on Test data which is a sign of overfitting \n",
    "\n",
    "#### Action \n",
    "We will do hyperparameter tuning"
   ]
  },
  {
   "cell_type": "markdown",
   "id": "f10cdcbd",
   "metadata": {},
   "source": [
    "#### Hyperparameter tuning for Logistic regression"
   ]
  },
  {
   "cell_type": "code",
   "execution_count": 30,
   "id": "fd4462ed",
   "metadata": {},
   "outputs": [
    {
     "name": "stdout",
     "output_type": "stream",
     "text": [
      "Logistic Regression - Train Accuracy: 0.8714644748658865\n",
      "Logistic Regression - Test Accuracy: 0.8717975568779395\n"
     ]
    }
   ],
   "source": [
    "lr = LogisticRegression(penalty = 'l2', max_iter = 500, C = 0.24770763559917114)\n",
    "lr.fit(x_train_scaled, y_train)\n",
    "\n",
    "y_train_pred_lr = lr.predict(x_train_scaled)\n",
    "y_test_pred_lr = lr.predict(x_test_scaled)\n",
    "\n",
    "train_accuracy_lr = accuracy_score(y_train, y_train_pred_lr)\n",
    "test_accuracy_lr = accuracy_score(y_test, y_test_pred_lr)\n",
    "\n",
    "print(\"Logistic Regression - Train Accuracy:\", train_accuracy_lr)\n",
    "print(\"Logistic Regression - Test Accuracy:\", test_accuracy_lr)"
   ]
  },
  {
   "cell_type": "markdown",
   "id": "99fc12d5",
   "metadata": {},
   "source": [
    "#### Insights \n",
    "Model performance hasn't changed "
   ]
  },
  {
   "cell_type": "markdown",
   "id": "073154fa",
   "metadata": {},
   "source": [
    "#### Hyperparameter tuning on Decision Tree classifier "
   ]
  },
  {
   "cell_type": "code",
   "execution_count": 31,
   "id": "c7a2b2cf",
   "metadata": {},
   "outputs": [
    {
     "name": "stdout",
     "output_type": "stream",
     "text": [
      "Best Hyperparameters: {'max_depth': 10, 'min_samples_split': 10}\n",
      "Validation Accuracy (on the validation set): 0.9567923191403993\n",
      "Train Accuracy (on the full training set): 0.957097479858431\n",
      "Test Accuracy: 0.9561503753921243\n"
     ]
    }
   ],
   "source": [
    "from sklearn.tree import DecisionTreeClassifier\n",
    "from sklearn.metrics import accuracy_score\n",
    "from sklearn.model_selection import train_test_split\n",
    "import numpy as np\n",
    "\n",
    "# Split your data into training and testing sets\n",
    "x_train, x_test, y_train, y_test = train_test_split(X, y, test_size=0.2, random_state=42)\n",
    "\n",
    "# Further split the training data into training and validation sets\n",
    "x_train, x_val, y_train, y_val = train_test_split(x_train, y_train, test_size=0.2, random_state=42)\n",
    "\n",
    "# Define the range of hyperparameters to search\n",
    "max_depth_values = [10, 20, 30]\n",
    "min_samples_split_values = np.arange(2, 11)\n",
    "\n",
    "best_accuracy = 0\n",
    "best_params = {}\n",
    "\n",
    "# Loop through all combinations of hyperparameters\n",
    "for max_depth in max_depth_values:\n",
    "    for min_samples_split in min_samples_split_values:\n",
    "        # Initialize the Decision Tree model with current hyperparameters\n",
    "        dt = DecisionTreeClassifier(max_depth=max_depth, min_samples_split=min_samples_split, random_state=42)\n",
    "        \n",
    "        # Train the model on the training set\n",
    "        dt.fit(x_train, y_train)\n",
    "        \n",
    "        # Make predictions on the validation set\n",
    "        y_val_pred = dt.predict(x_val)\n",
    "        \n",
    "        # Calculate accuracy on the validation set\n",
    "        accuracy = accuracy_score(y_val, y_val_pred)\n",
    "        \n",
    "        # Check if this combination of hyperparameters is the best so far\n",
    "        if accuracy > best_accuracy:\n",
    "            best_accuracy = accuracy\n",
    "            best_params = {'max_depth': max_depth, 'min_samples_split': min_samples_split}\n",
    "\n",
    "# Train the best model using the best hyperparameters on the full training set\n",
    "best_dt = DecisionTreeClassifier(max_depth=best_params['max_depth'], min_samples_split=best_params['min_samples_split'], random_state=42)\n",
    "best_dt.fit(x_train, y_train)\n",
    "\n",
    "# Make predictions on the training and testing sets using the best model\n",
    "y_train_pred = best_dt.predict(x_train)\n",
    "y_test_pred = best_dt.predict(x_test)\n",
    "\n",
    "# Calculate accuracy of the best model on the train and test sets\n",
    "train_accuracy = accuracy_score(y_train, y_train_pred)\n",
    "test_accuracy = accuracy_score(y_test, y_test_pred)\n",
    "\n",
    "print(\"Best Hyperparameters:\", best_params)\n",
    "print(\"Validation Accuracy (on the validation set):\", best_accuracy)\n",
    "print(\"Train Accuracy (on the full training set):\", train_accuracy)\n",
    "print(\"Test Accuracy:\", test_accuracy)"
   ]
  },
  {
   "cell_type": "markdown",
   "id": "384bab4e",
   "metadata": {},
   "source": [
    "#### Insight \n",
    "Train data accuracy has gone down but Test data accuracy has gone up and no overfitting is there "
   ]
  },
  {
   "cell_type": "code",
   "execution_count": 32,
   "id": "22e43e84",
   "metadata": {},
   "outputs": [
    {
     "name": "stdout",
     "output_type": "stream",
     "text": [
      "Test Accuracy: 0.9561503753921243\n"
     ]
    }
   ],
   "source": [
    "best_hyperparameters = {'max_depth': 10, 'min_samples_split': 10}\n",
    "\n",
    "# Create a Decision Tree classifier with the best hyperparameters\n",
    "best_dt = DecisionTreeClassifier(max_depth=best_hyperparameters['max_depth'], \n",
    "                                 min_samples_split=best_hyperparameters['min_samples_split'], \n",
    "                                 random_state=42)\n",
    "\n",
    "# Train the model on the full training set\n",
    "best_dt.fit(x_train, y_train)\n",
    "\n",
    "# Make predictions on the test set\n",
    "y_test_pred = best_dt.predict(x_test)\n",
    "\n",
    "# Calculate accuracy on the test set\n",
    "test_accuracy = accuracy_score(y_test, y_test_pred)\n",
    "\n",
    "print(\"Test Accuracy:\", test_accuracy)"
   ]
  },
  {
   "cell_type": "markdown",
   "id": "133deb6b",
   "metadata": {},
   "source": [
    "#### Making Confusion matrix"
   ]
  },
  {
   "cell_type": "code",
   "execution_count": 33,
   "id": "e0841095",
   "metadata": {},
   "outputs": [
    {
     "data": {
      "image/png": "[encoded data removed]",
      "text/plain": [
       "<Figure size 576x432 with 2 Axes>"
      ]
     },
     "metadata": {
      "needs_background": "light"
     },
     "output_type": "display_data"
    }
   ],
   "source": [
    "from sklearn.metrics import confusion_matrix\n",
    "\n",
    "# Calculate the confusion matrix\n",
    "conf_matrix = confusion_matrix(y_test, y_test_pred)\n",
    "\n",
    "# Create a heatmap to visualize the confusion matrix\n",
    "plt.figure(figsize=(8, 6))\n",
    "sns.heatmap(conf_matrix, annot=True, fmt='d', cmap='Blues', \n",
    "            xticklabels=['Class 0', 'Class 1'], \n",
    "            yticklabels=['Class 0', 'Class 1'])\n",
    "plt.xlabel('Predicted')\n",
    "plt.ylabel('Actual')\n",
    "plt.title('Confusion Matrix')\n",
    "plt.show()"
   ]
  },
  {
   "cell_type": "markdown",
   "id": "fb825a3f",
   "metadata": {},
   "source": [
    "#### Checking on other matrix "
   ]
  },
  {
   "cell_type": "code",
   "execution_count": 34,
   "id": "f03faadb",
   "metadata": {},
   "outputs": [
    {
     "name": "stdout",
     "output_type": "stream",
     "text": [
      "Precision: 0.9430914440527864\n",
      "Recall: 0.8083069086914184\n",
      "F1-score: 0.8705127860388824\n",
      "\n",
      "Classification Report:\n",
      "               precision    recall  f1-score   support\n",
      "\n",
      "           0       0.96      0.99      0.97    359172\n",
      "           1       0.94      0.81      0.87     80102\n",
      "\n",
      "    accuracy                           0.96    439274\n",
      "   macro avg       0.95      0.90      0.92    439274\n",
      "weighted avg       0.96      0.96      0.95    439274\n",
      "\n"
     ]
    }
   ],
   "source": [
    "from sklearn.metrics import precision_score, recall_score, f1_score, classification_report\n",
    "\n",
    "# Calculate precision\n",
    "precision = precision_score(y_test, y_test_pred)\n",
    "\n",
    "# Calculate recall\n",
    "recall = recall_score(y_test, y_test_pred)\n",
    "\n",
    "# Calculate F1-score\n",
    "f1 = f1_score(y_test, y_test_pred)\n",
    "\n",
    "# Generate a classification report which includes precision, recall, F1-score, and more\n",
    "classification_rep = classification_report(y_test, y_test_pred)\n",
    "\n",
    "print(\"Precision:\", precision)\n",
    "print(\"Recall:\", recall)\n",
    "print(\"F1-score:\", f1)\n",
    "print(\"\\nClassification Report:\\n\", classification_rep)"
   ]
  },
  {
   "cell_type": "markdown",
   "id": "b63a337b",
   "metadata": {},
   "source": [
    "#### Insights \n",
    "By looking at avove scores we can say that our models is working decently good for both 0 and 1 but recall is very low "
   ]
  },
  {
   "cell_type": "markdown",
   "id": "301f6ac7",
   "metadata": {},
   "source": [
    "#### Making ROC curve"
   ]
  },
  {
   "cell_type": "code",
   "execution_count": 35,
   "id": "b933a72b",
   "metadata": {},
   "outputs": [
    {
     "data": {
      "image/png": "[encoded data removed]",
      "text/plain": [
       "<Figure size 576x432 with 1 Axes>"
      ]
     },
     "metadata": {
      "needs_background": "light"
     },
     "output_type": "display_data"
    }
   ],
   "source": [
    "from sklearn.metrics import roc_curve, roc_auc_score\n",
    "\n",
    "# Calculate ROC curve\n",
    "fpr, tpr, thresholds = roc_curve(y_test, best_dt.predict_proba(x_test)[:, 1])  # Assuming 'best_dt' is your trained Decision Tree model\n",
    "\n",
    "# Calculate the AUC (Area Under the Curve)\n",
    "roc_auc = roc_auc_score(y_test, best_dt.predict_proba(x_test)[:, 1])\n",
    "\n",
    "# Plot ROC curve\n",
    "plt.figure(figsize=(8, 6))\n",
    "plt.plot(fpr, tpr, color='darkorange', lw=2, label='ROC curve (area = {:.2f})'.format(roc_auc))\n",
    "plt.plot([0, 1], [0, 1], color='navy', lw=2, linestyle='--')\n",
    "plt.xlim([0.0, 1.0])\n",
    "plt.ylim([0.0, 1.05])\n",
    "plt.xlabel('False Positive Rate')\n",
    "plt.ylabel('True Positive Rate')\n",
    "plt.title('Receiver Operating Characteristic (ROC) Curve')\n",
    "plt.legend(loc='lower right')\n",
    "plt.show()"
   ]
  },
  {
   "cell_type": "markdown",
   "id": "b2b66e4d",
   "metadata": {},
   "source": [
    "#### Since it is an unbalanced SMOTE can be used to bridge this gap"
   ]
  },
  {
   "cell_type": "code",
   "execution_count": 43,
   "id": "06bfc70d",
   "metadata": {},
   "outputs": [
    {
     "name": "stdout",
     "output_type": "stream",
     "text": [
      "Class distribution before SMOTE: Counter({0: 1794675, 1: 401693})\n",
      "Class distribution after SMOTE: Counter({0: 1794675, 1: 1794675})\n"
     ]
    }
   ],
   "source": [
    "from imblearn.over_sampling import SMOTE\n",
    "from collections import Counter\n",
    "\n",
    "# Assuming you have a feature matrix X and corresponding target labels y\n",
    "# X should contain your features, and y should contain your binary class labels (0 or 1)\n",
    "\n",
    "# Check the class distribution before SMOTE\n",
    "print(\"Class distribution before SMOTE:\", Counter(y))\n",
    "\n",
    "# Instantiate the SMOTE object\n",
    "smote = SMOTE(sampling_strategy='auto', random_state=42)\n",
    "\n",
    "# Fit and apply SMOTE to the data\n",
    "X_resampled, y_resampled = smote.fit_resample(X, y)\n",
    "\n",
    "# Check the class distribution after SMOTE\n",
    "print(\"Class distribution after SMOTE:\", Counter(y_resampled))"
   ]
  },
  {
   "cell_type": "markdown",
   "id": "59e194a3",
   "metadata": {},
   "source": [
    "### Splitting our resampled data into train, test and validation dataset "
   ]
  },
  {
   "cell_type": "code",
   "execution_count": 50,
   "id": "096170ca",
   "metadata": {},
   "outputs": [],
   "source": [
    "x_train, x_test, y_train, y_test = train_test_split(X_resampled, y_resampled, test_size=0.2, random_state=42)\n",
    "\n",
    "# Further split the training data into training and validation sets\n",
    "x_train, x_val, y_train, y_val = train_test_split(x_train, y_train, test_size=0.2, random_state=42)"
   ]
  },
  {
   "cell_type": "markdown",
   "id": "3cbfa63e",
   "metadata": {},
   "source": [
    "#### Hyperparameter tuning on validation dataset"
   ]
  },
  {
   "cell_type": "code",
   "execution_count": 51,
   "id": "481373ad",
   "metadata": {},
   "outputs": [
    {
     "name": "stdout",
     "output_type": "stream",
     "text": [
      "Best Hyperparameters: {'max_depth': 20, 'min_samples_split': 10}\n",
      "Validation Accuracy (on the validation set): 0.9567940574198671\n",
      "Train Accuracy (on the full training set): 0.9651403631576748\n",
      "Test Accuracy: 0.9569852480254085\n"
     ]
    }
   ],
   "source": [
    "max_depth_values = [10, 20, 30]\n",
    "min_samples_split_values = np.arange(2, 11)\n",
    "\n",
    "best_accuracy = 0\n",
    "best_params = {}\n",
    "\n",
    "# Loop through all combinations of hyperparameters\n",
    "for max_depth in max_depth_values:\n",
    "    for min_samples_split in min_samples_split_values:\n",
    "        # Initialize the Decision Tree model with current hyperparameters\n",
    "        dt = DecisionTreeClassifier(max_depth=max_depth, min_samples_split=min_samples_split, random_state=42)\n",
    "        \n",
    "        # Train the model on the training set\n",
    "        dt.fit(x_train, y_train)\n",
    "        \n",
    "        # Make predictions on the validation set\n",
    "        y_val_pred = dt.predict(x_val)\n",
    "        \n",
    "        # Calculate accuracy on the validation set\n",
    "        accuracy = accuracy_score(y_val, y_val_pred)\n",
    "        \n",
    "        # Check if this combination of hyperparameters is the best so far\n",
    "        if accuracy > best_accuracy:\n",
    "            best_accuracy = accuracy\n",
    "            best_params = {'max_depth': max_depth, 'min_samples_split': min_samples_split}\n",
    "\n",
    "# Train the best model using the best hyperparameters on the full training set\n",
    "best_dt = DecisionTreeClassifier(max_depth=best_params['max_depth'], min_samples_split=best_params['min_samples_split'], random_state=42)\n",
    "best_dt.fit(x_train, y_train)\n",
    "\n",
    "# Make predictions on the training and testing sets using the best model\n",
    "y_train_pred = best_dt.predict(x_train)\n",
    "y_test_pred = best_dt.predict(x_test)\n",
    "\n",
    "# Calculate accuracy of the best model on the train and test sets\n",
    "train_accuracy = accuracy_score(y_train, y_train_pred)\n",
    "test_accuracy = accuracy_score(y_test, y_test_pred)\n",
    "\n",
    "print(\"Best Hyperparameters:\", best_params)\n",
    "print(\"Validation Accuracy (on the validation set):\", best_accuracy)\n",
    "print(\"Train Accuracy (on the full training set):\", train_accuracy)\n",
    "print(\"Test Accuracy:\", test_accuracy)"
   ]
  },
  {
   "cell_type": "markdown",
   "id": "009b5497",
   "metadata": {},
   "source": [
    "### Building ROC curve to visualize best threshold value"
   ]
  },
  {
   "cell_type": "code",
   "execution_count": 53,
   "id": "fc65db27",
   "metadata": {},
   "outputs": [
    {
     "data": {
      "image/png": "[encoded data removed]",
      "text/plain": [
       "<Figure size 576x432 with 1 Axes>"
      ]
     },
     "metadata": {
      "needs_background": "light"
     },
     "output_type": "display_data"
    }
   ],
   "source": [
    "from sklearn.metrics import roc_curve, roc_auc_score\n",
    "\n",
    "# Calculate ROC curve\n",
    "fpr, tpr, thresholds = roc_curve(y_test, best_dt.predict_proba(x_test)[:, 1])  # Assuming 'best_dt' is your trained Decision Tree model\n",
    "\n",
    "# Calculate the AUC (Area Under the Curve)\n",
    "roc_auc = roc_auc_score(y_test, best_dt.predict_proba(x_test)[:, 1])\n",
    "\n",
    "# Plot ROC curve\n",
    "plt.figure(figsize=(8, 6))\n",
    "plt.plot(fpr, tpr, color='darkorange', lw=2, label='ROC curve (area = {:.2f})'.format(roc_auc))\n",
    "plt.plot([0, 1], [0, 1], color='navy', lw=2, linestyle='--')\n",
    "plt.xlim([0.0, 1.0])\n",
    "plt.ylim([0.0, 1.05])\n",
    "plt.xlabel('False Positive Rate')\n",
    "plt.ylabel('True Positive Rate')\n",
    "plt.title('Receiver Operating Characteristic (ROC) Curve')\n",
    "plt.legend(loc='lower right')\n",
    "plt.show()"
   ]
  },
  {
   "cell_type": "markdown",
   "id": "28c31b7e",
   "metadata": {},
   "source": [
    "### Getting our best threshold value"
   ]
  },
  {
   "cell_type": "code",
   "execution_count": 55,
   "id": "e24991b5",
   "metadata": {},
   "outputs": [
    {
     "name": "stdout",
     "output_type": "stream",
     "text": [
      "Best Threshold: 0.5877862595419847\n"
     ]
    }
   ],
   "source": [
    "best_threshold = thresholds[np.argmax(tpr - fpr)]\n",
    "\n",
    "print(\"Best Threshold:\", best_threshold)"
   ]
  },
  {
   "cell_type": "markdown",
   "id": "d07e3440",
   "metadata": {},
   "source": [
    "#### building new decision tree classifier using this threshold"
   ]
  },
  {
   "cell_type": "code",
   "execution_count": 56,
   "id": "5da0be0b",
   "metadata": {},
   "outputs": [
    {
     "name": "stdout",
     "output_type": "stream",
     "text": [
      "Test Accuracy with Threshold: 0.9571147979439174\n"
     ]
    }
   ],
   "source": [
    "best_dt_with_threshold = DecisionTreeClassifier(\n",
    "    max_depth=20, \n",
    "    min_samples_split=10, \n",
    "    random_state=42\n",
    ")\n",
    "\n",
    "# Train the model on the full training set\n",
    "best_dt_with_threshold.fit(x_train, y_train)\n",
    "\n",
    "# Make predictions on the test set\n",
    "y_test_probs = best_dt_with_threshold.predict_proba(x_test)[:, 1]\n",
    "\n",
    "# Apply the threshold to the predicted probabilities\n",
    "threshold = 0.5877862595419847\n",
    "y_test_pred_with_threshold = (y_test_probs > threshold).astype(int)\n",
    "\n",
    "# Calculate accuracy on the test set with the adjusted threshold\n",
    "test_accuracy_with_threshold = accuracy_score(y_test, y_test_pred_with_threshold)\n",
    "\n",
    "print(\"Test Accuracy with Threshold:\", test_accuracy_with_threshold)"
   ]
  },
  {
   "cell_type": "markdown",
   "id": "bda5523c",
   "metadata": {},
   "source": [
    "#### Visualizing confusion matrix"
   ]
  },
  {
   "cell_type": "code",
   "execution_count": 57,
   "id": "aef748a7",
   "metadata": {},
   "outputs": [
    {
     "data": {
      "image/png": "[encoded data removed]",
      "text/plain": [
       "<Figure size 576x432 with 2 Axes>"
      ]
     },
     "metadata": {
      "needs_background": "light"
     },
     "output_type": "display_data"
    }
   ],
   "source": [
    "conf_matrix = confusion_matrix(y_test, y_test_pred_with_threshold)\n",
    "\n",
    "# Create a heatmap to visualize the confusion matrix\n",
    "plt.figure(figsize=(8, 6))\n",
    "sns.heatmap(conf_matrix, annot=True, fmt='d', cmap='Blues', \n",
    "            xticklabels=['Class 0', 'Class 1'], \n",
    "            yticklabels=['Class 0', 'Class 1'])\n",
    "plt.xlabel('Predicted')\n",
    "plt.ylabel('Actual')\n",
    "plt.title('Confusion Matrix')\n",
    "plt.show()"
   ]
  },
  {
   "cell_type": "markdown",
   "id": "cc699905",
   "metadata": {},
   "source": [
    "#### Looking at other matrix"
   ]
  },
  {
   "cell_type": "code",
   "execution_count": 58,
   "id": "9784ff4c",
   "metadata": {},
   "outputs": [
    {
     "name": "stdout",
     "output_type": "stream",
     "text": [
      "Precision: 0.9788111822729185\n",
      "Recall: 0.9343612113639279\n",
      "F1-score: 0.9560698293649773\n",
      "\n",
      "Classification Report:\n",
      "               precision    recall  f1-score   support\n",
      "\n",
      "           0       0.94      0.98      0.96    359332\n",
      "           1       0.98      0.93      0.96    358538\n",
      "\n",
      "    accuracy                           0.96    717870\n",
      "   macro avg       0.96      0.96      0.96    717870\n",
      "weighted avg       0.96      0.96      0.96    717870\n",
      "\n"
     ]
    }
   ],
   "source": [
    "from sklearn.metrics import precision_score, recall_score, f1_score, classification_report\n",
    "\n",
    "# Calculate precision\n",
    "precision = precision_score(y_test, y_test_pred_with_threshold)\n",
    "\n",
    "# Calculate recall\n",
    "recall = recall_score(y_test, y_test_pred_with_threshold)\n",
    "\n",
    "# Calculate F1-score\n",
    "f1 = f1_score(y_test, y_test_pred_with_threshold)\n",
    "\n",
    "# Generate a classification report which includes precision, recall, F1-score, and more\n",
    "classification_rep = classification_report(y_test, y_test_pred_with_threshold)\n",
    "\n",
    "print(\"Precision:\", precision)\n",
    "print(\"Recall:\", recall)\n",
    "print(\"F1-score:\", f1)\n",
    "print(\"\\nClassification Report:\\n\", classification_rep)"
   ]
  },
  {
   "cell_type": "markdown",
   "id": "bab90cd5",
   "metadata": {},
   "source": [
    "#### comparision between old and new model"
   ]
  },
  {
   "cell_type": "code",
   "execution_count": 62,
   "id": "7fed2488",
   "metadata": {},
   "outputs": [],
   "source": [
    "# <!-- ## for old model                                                        \n",
    "                                                                        \n",
    "# Precision: 0.9430914440527864                                              \n",
    "# Recall: 0.8083069086914184\n",
    "# F1-score: 0.8705127860388824\n",
    "\n",
    "# Classification Report:\n",
    "#                precision    recall  f1-score   support\n",
    "\n",
    "#            0       0.96      0.99      0.97    359172\n",
    "#            1       0.94      0.81      0.87     80102\n",
    "\n",
    "#     accuracy                           0.96    439274\n",
    "#    macro avg       0.95      0.90      0.92    439274\n",
    "# weighted avg       0.96      0.96      0.95    439274\n",
    "\n",
    "\n",
    "# ## for new model\n",
    "# Precision: 0.9788111822729185\n",
    "# Recall: 0.9343612113639279\n",
    "# F1-score: 0.9560698293649773\n",
    "# Classification Report:\n",
    "#                precision    recall  f1-score   support\n",
    "\n",
    "#            0       0.94      0.98      0.96    359332\n",
    "#            1       0.98      0.93      0.96    358538\n",
    "\n",
    "#     accuracy                           0.96    717870\n",
    "#    macro avg       0.96      0.96      0.96    717870\n",
    "# weighted avg       0.96      0.96      0.96    717870 -->"
   ]
  },
  {
   "cell_type": "markdown",
   "id": "4ff40677",
   "metadata": {},
   "source": [
    "#### Insights\n",
    "New model seems better as it has significant value of recall and there is slight increse in every matrix in comparision to the old model"
   ]
  },
  {
   "cell_type": "code",
   "execution_count": null,
   "id": "e52e053f",
   "metadata": {},
   "outputs": [],
   "source": []
  },
  {
   "cell_type": "code",
   "execution_count": null,
   "id": "239385bf",
   "metadata": {},
   "outputs": [],
   "source": []
  }
 ],
 "metadata": {
  "kernelspec": {
   "display_name": "Python 3 (ipykernel)",
   "language": "python",
   "name": "python3"
  },
  "language_info": {
   "codemirror_mode": {
    "name": "ipython",
    "version": 3
   },
   "file_extension": ".py",
   "mimetype": "text/x-python",
   "name": "python",
   "nbconvert_exporter": "python",
   "pygments_lexer": "ipython3",
   "version": "3.9.12"
  }
 },
 "nbformat": 4,
 "nbformat_minor": 5
}
